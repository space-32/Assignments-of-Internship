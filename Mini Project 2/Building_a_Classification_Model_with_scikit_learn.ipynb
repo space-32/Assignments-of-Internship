{
  "nbformat": 4,
  "nbformat_minor": 0,
  "metadata": {
    "colab": {
      "provenance": []
    },
    "kernelspec": {
      "name": "python3",
      "display_name": "Python 3"
    },
    "language_info": {
      "name": "python"
    }
  },
  "cells": [
    {
      "cell_type": "markdown",
      "source": [
        "# **Data Loading of Built-in Dataset**"
      ],
      "metadata": {
        "id": "go31nSkCk2GR"
      }
    },
    {
      "cell_type": "code",
      "source": [
        "from sklearn.datasets import load_breast_cancer\n",
        "import pandas as pd\n",
        "from sklearn.model_selection import train_test_split\n",
        "from sklearn.linear_model import LogisticRegression\n",
        "from sklearn.svm import SVC\n",
        "from sklearn.metrics import accuracy_score, precision_score, recall_score, f1_score, roc_auc_score, roc_curve\n",
        "import matplotlib.pyplot as plt"
      ],
      "metadata": {
        "id": "lDI8wJbwl83C"
      },
      "execution_count": 34,
      "outputs": []
    },
    {
      "cell_type": "code",
      "execution_count": 24,
      "metadata": {
        "colab": {
          "base_uri": "https://localhost:8080/"
        },
        "id": "Oby3bnzojs_H",
        "outputId": "4f98d0b9-0c90-4d37-b7ba-584524ec92d5"
      },
      "outputs": [
        {
          "output_type": "stream",
          "name": "stdout",
          "text": [
            "Initial DataFrame:\n",
            "   mean radius  mean texture  mean perimeter  mean area  mean smoothness  \\\n",
            "0        17.99         10.38          122.80     1001.0          0.11840   \n",
            "1        20.57         17.77          132.90     1326.0          0.08474   \n",
            "2        19.69         21.25          130.00     1203.0          0.10960   \n",
            "3        11.42         20.38           77.58      386.1          0.14250   \n",
            "4        20.29         14.34          135.10     1297.0          0.10030   \n",
            "\n",
            "   mean compactness  mean concavity  mean concave points  mean symmetry  \\\n",
            "0           0.27760          0.3001              0.14710         0.2419   \n",
            "1           0.07864          0.0869              0.07017         0.1812   \n",
            "2           0.15990          0.1974              0.12790         0.2069   \n",
            "3           0.28390          0.2414              0.10520         0.2597   \n",
            "4           0.13280          0.1980              0.10430         0.1809   \n",
            "\n",
            "   mean fractal dimension  ...  worst texture  worst perimeter  worst area  \\\n",
            "0                 0.07871  ...          17.33           184.60      2019.0   \n",
            "1                 0.05667  ...          23.41           158.80      1956.0   \n",
            "2                 0.05999  ...          25.53           152.50      1709.0   \n",
            "3                 0.09744  ...          26.50            98.87       567.7   \n",
            "4                 0.05883  ...          16.67           152.20      1575.0   \n",
            "\n",
            "   worst smoothness  worst compactness  worst concavity  worst concave points  \\\n",
            "0            0.1622             0.6656           0.7119                0.2654   \n",
            "1            0.1238             0.1866           0.2416                0.1860   \n",
            "2            0.1444             0.4245           0.4504                0.2430   \n",
            "3            0.2098             0.8663           0.6869                0.2575   \n",
            "4            0.1374             0.2050           0.4000                0.1625   \n",
            "\n",
            "   worst symmetry  worst fractal dimension  target  \n",
            "0          0.4601                  0.11890       0  \n",
            "1          0.2750                  0.08902       0  \n",
            "2          0.3613                  0.08758       0  \n",
            "3          0.6638                  0.17300       0  \n",
            "4          0.2364                  0.07678       0  \n",
            "\n",
            "[5 rows x 31 columns]\n"
          ]
        }
      ],
      "source": [
        "\n",
        "# Load the Breast Cancer dataset\n",
        "cancer_data = load_breast_cancer(as_frame=True)\n",
        "df = cancer_data.frame\n",
        "\n",
        "# Display the first few rows to understand the data\n",
        "print(\"Initial DataFrame:\")\n",
        "print(df.head())\n"
      ]
    },
    {
      "cell_type": "markdown",
      "source": [
        "# **Data Preprocessing**"
      ],
      "metadata": {
        "id": "tRGQ4TgQltzs"
      }
    },
    {
      "cell_type": "code",
      "source": [
        "# Check for missing values\n",
        "print(\"\\nMissing Values:\")\n",
        "print(df.isnull().sum())\n",
        "\n",
        "# Scaling/Normalizing numerical features\n",
        "scaler = StandardScaler()\n",
        "scaled_features = scaler.fit_transform(df.drop(columns='target'))\n",
        "\n",
        "# Convert scaled features back to DataFrame\n",
        "scaled_df = pd.DataFrame(scaled_features, columns=df.columns[:-1])\n",
        "\n",
        "# Add the target column back to the DataFrame\n",
        "scaled_df['target'] = df['target']\n",
        "\n",
        "# Display the first few rows of the scaled DataFrame\n",
        "print(\"\\nScaled DataFrame:\")\n",
        "print(scaled_df.head())"
      ],
      "metadata": {
        "colab": {
          "base_uri": "https://localhost:8080/"
        },
        "id": "q5BfnGBaldC2",
        "outputId": "b8be37c6-cc2f-49d2-d878-007425b8e870"
      },
      "execution_count": 25,
      "outputs": [
        {
          "output_type": "stream",
          "name": "stdout",
          "text": [
            "\n",
            "Missing Values:\n",
            "mean radius                0\n",
            "mean texture               0\n",
            "mean perimeter             0\n",
            "mean area                  0\n",
            "mean smoothness            0\n",
            "mean compactness           0\n",
            "mean concavity             0\n",
            "mean concave points        0\n",
            "mean symmetry              0\n",
            "mean fractal dimension     0\n",
            "radius error               0\n",
            "texture error              0\n",
            "perimeter error            0\n",
            "area error                 0\n",
            "smoothness error           0\n",
            "compactness error          0\n",
            "concavity error            0\n",
            "concave points error       0\n",
            "symmetry error             0\n",
            "fractal dimension error    0\n",
            "worst radius               0\n",
            "worst texture              0\n",
            "worst perimeter            0\n",
            "worst area                 0\n",
            "worst smoothness           0\n",
            "worst compactness          0\n",
            "worst concavity            0\n",
            "worst concave points       0\n",
            "worst symmetry             0\n",
            "worst fractal dimension    0\n",
            "target                     0\n",
            "dtype: int64\n",
            "\n",
            "Scaled DataFrame:\n",
            "   mean radius  mean texture  mean perimeter  mean area  mean smoothness  \\\n",
            "0     1.097064     -2.073335        1.269934   0.984375         1.568466   \n",
            "1     1.829821     -0.353632        1.685955   1.908708        -0.826962   \n",
            "2     1.579888      0.456187        1.566503   1.558884         0.942210   \n",
            "3    -0.768909      0.253732       -0.592687  -0.764464         3.283553   \n",
            "4     1.750297     -1.151816        1.776573   1.826229         0.280372   \n",
            "\n",
            "   mean compactness  mean concavity  mean concave points  mean symmetry  \\\n",
            "0          3.283515        2.652874             2.532475       2.217515   \n",
            "1         -0.487072       -0.023846             0.548144       0.001392   \n",
            "2          1.052926        1.363478             2.037231       0.939685   \n",
            "3          3.402909        1.915897             1.451707       2.867383   \n",
            "4          0.539340        1.371011             1.428493      -0.009560   \n",
            "\n",
            "   mean fractal dimension  ...  worst texture  worst perimeter  worst area  \\\n",
            "0                2.255747  ...      -1.359293         2.303601    2.001237   \n",
            "1               -0.868652  ...      -0.369203         1.535126    1.890489   \n",
            "2               -0.398008  ...      -0.023974         1.347475    1.456285   \n",
            "3                4.910919  ...       0.133984        -0.249939   -0.550021   \n",
            "4               -0.562450  ...      -1.466770         1.338539    1.220724   \n",
            "\n",
            "   worst smoothness  worst compactness  worst concavity  worst concave points  \\\n",
            "0          1.307686           2.616665         2.109526              2.296076   \n",
            "1         -0.375612          -0.430444        -0.146749              1.087084   \n",
            "2          0.527407           1.082932         0.854974              1.955000   \n",
            "3          3.394275           3.893397         1.989588              2.175786   \n",
            "4          0.220556          -0.313395         0.613179              0.729259   \n",
            "\n",
            "   worst symmetry  worst fractal dimension  target  \n",
            "0        2.750622                 1.937015       0  \n",
            "1       -0.243890                 0.281190       0  \n",
            "2        1.152255                 0.201391       0  \n",
            "3        6.046041                 4.935010       0  \n",
            "4       -0.868353                -0.397100       0  \n",
            "\n",
            "[5 rows x 31 columns]\n"
          ]
        }
      ]
    },
    {
      "cell_type": "code",
      "source": [
        "# Separate features and target\n",
        "X = df.drop(columns='target')\n",
        "y = df['target']\n",
        "\n",
        "# Initialize the StandardScaler\n",
        "scaler = StandardScaler()\n",
        "\n",
        "# Fit the scaler on the features and transform the features\n",
        "X_scaled = scaler.fit_transform(X)\n",
        "\n",
        "# Convert the scaled features back to a DataFrame\n",
        "X_scaled_df = pd.DataFrame(X_scaled, columns=X.columns)\n",
        "\n",
        "# Add the target column back to the DataFrame\n",
        "scaled_df = pd.concat([X_scaled_df, y.reset_index(drop=True)], axis=1)\n",
        "scaled_df.columns = list(X.columns) + ['target']\n",
        "\n",
        "# Display the first few rows of the scaled DataFrame\n",
        "print(\"\\nScaled DataFrame:\")\n",
        "print(scaled_df.head())"
      ],
      "metadata": {
        "colab": {
          "base_uri": "https://localhost:8080/"
        },
        "id": "2_8-TyxAt_7a",
        "outputId": "6dd83041-af7e-46a8-bfce-dc13382edaf7"
      },
      "execution_count": 26,
      "outputs": [
        {
          "output_type": "stream",
          "name": "stdout",
          "text": [
            "\n",
            "Scaled DataFrame:\n",
            "   mean radius  mean texture  mean perimeter  mean area  mean smoothness  \\\n",
            "0     1.097064     -2.073335        1.269934   0.984375         1.568466   \n",
            "1     1.829821     -0.353632        1.685955   1.908708        -0.826962   \n",
            "2     1.579888      0.456187        1.566503   1.558884         0.942210   \n",
            "3    -0.768909      0.253732       -0.592687  -0.764464         3.283553   \n",
            "4     1.750297     -1.151816        1.776573   1.826229         0.280372   \n",
            "\n",
            "   mean compactness  mean concavity  mean concave points  mean symmetry  \\\n",
            "0          3.283515        2.652874             2.532475       2.217515   \n",
            "1         -0.487072       -0.023846             0.548144       0.001392   \n",
            "2          1.052926        1.363478             2.037231       0.939685   \n",
            "3          3.402909        1.915897             1.451707       2.867383   \n",
            "4          0.539340        1.371011             1.428493      -0.009560   \n",
            "\n",
            "   mean fractal dimension  ...  worst texture  worst perimeter  worst area  \\\n",
            "0                2.255747  ...      -1.359293         2.303601    2.001237   \n",
            "1               -0.868652  ...      -0.369203         1.535126    1.890489   \n",
            "2               -0.398008  ...      -0.023974         1.347475    1.456285   \n",
            "3                4.910919  ...       0.133984        -0.249939   -0.550021   \n",
            "4               -0.562450  ...      -1.466770         1.338539    1.220724   \n",
            "\n",
            "   worst smoothness  worst compactness  worst concavity  worst concave points  \\\n",
            "0          1.307686           2.616665         2.109526              2.296076   \n",
            "1         -0.375612          -0.430444        -0.146749              1.087084   \n",
            "2          0.527407           1.082932         0.854974              1.955000   \n",
            "3          3.394275           3.893397         1.989588              2.175786   \n",
            "4          0.220556          -0.313395         0.613179              0.729259   \n",
            "\n",
            "   worst symmetry  worst fractal dimension  target  \n",
            "0        2.750622                 1.937015       0  \n",
            "1       -0.243890                 0.281190       0  \n",
            "2        1.152255                 0.201391       0  \n",
            "3        6.046041                 4.935010       0  \n",
            "4       -0.868353                -0.397100       0  \n",
            "\n",
            "[5 rows x 31 columns]\n"
          ]
        }
      ]
    },
    {
      "cell_type": "markdown",
      "source": [
        "# **Data Splitting**"
      ],
      "metadata": {
        "id": "pcKcAclYuTWv"
      }
    },
    {
      "cell_type": "code",
      "source": [
        "\n",
        "# Separate features and target\n",
        "X = scaled_df.drop(columns='target')\n",
        "y = scaled_df['target']\n",
        "\n",
        "# Split the dataset into training and testing sets\n",
        "X_train, X_test, y_train, y_test = train_test_split(X, y, test_size=0.2, random_state=42)\n",
        "\n",
        "# Display the shapes of the resulting datasets\n",
        "print(\"Training set features shape:\", X_train.shape)\n",
        "print(\"Testing set features shape:\", X_test.shape)\n",
        "print(\"Training set target shape:\", y_train.shape)\n",
        "print(\"Testing set target shape:\", y_test.shape)\n"
      ],
      "metadata": {
        "colab": {
          "base_uri": "https://localhost:8080/"
        },
        "id": "1TK_CA8puBxB",
        "outputId": "dd600e35-2a6c-43f7-e048-1b9a60084c4c"
      },
      "execution_count": 27,
      "outputs": [
        {
          "output_type": "stream",
          "name": "stdout",
          "text": [
            "Training set features shape: (455, 30)\n",
            "Testing set features shape: (114, 30)\n",
            "Training set target shape: (455,)\n",
            "Testing set target shape: (114,)\n"
          ]
        }
      ]
    },
    {
      "cell_type": "markdown",
      "source": [
        "# **Model Selection**"
      ],
      "metadata": {
        "id": "fPjAyB2su9KH"
      }
    },
    {
      "cell_type": "code",
      "source": [
        "#1. Logistic Regression\n",
        "\n",
        "# Initialize the Logistic Regression model\n",
        "log_reg = LogisticRegression(max_iter=1000)\n",
        "\n",
        "# Train the model on the training data\n",
        "log_reg.fit(X_train, y_train)\n",
        "\n",
        "# Make predictions on the test data\n",
        "y_pred_log_reg = log_reg.predict(X_test)\n",
        "\n",
        "# Evaluate the model\n",
        "print(\"Logistic Regression Model Performance:\")\n",
        "print(\"Accuracy:\", accuracy_score(y_test, y_pred_log_reg))\n",
        "print(\"\\nClassification Report:\")\n",
        "print(classification_report(y_test, y_pred_log_reg))\n"
      ],
      "metadata": {
        "colab": {
          "base_uri": "https://localhost:8080/"
        },
        "id": "DjOd6xwovAky",
        "outputId": "f4f23b0b-93a1-429f-b0da-3c5444a56778"
      },
      "execution_count": 28,
      "outputs": [
        {
          "output_type": "stream",
          "name": "stdout",
          "text": [
            "Logistic Regression Model Performance:\n",
            "Accuracy: 0.9736842105263158\n",
            "\n",
            "Classification Report:\n",
            "              precision    recall  f1-score   support\n",
            "\n",
            "           0       0.98      0.95      0.96        43\n",
            "           1       0.97      0.99      0.98        71\n",
            "\n",
            "    accuracy                           0.97       114\n",
            "   macro avg       0.97      0.97      0.97       114\n",
            "weighted avg       0.97      0.97      0.97       114\n",
            "\n"
          ]
        }
      ]
    },
    {
      "cell_type": "code",
      "source": [
        "#2.SVM\n",
        "\n",
        "# Initialize the SVM model\n",
        "svm = SVC(kernel='linear', random_state=42)  # You can try other kernels like 'rbf', 'poly', etc.\n",
        "\n",
        "# Train the model on the training data\n",
        "svm.fit(X_train, y_train)\n",
        "\n",
        "# Make predictions on the test data\n",
        "y_pred_svm = svm.predict(X_test)\n",
        "\n",
        "# Evaluate the model\n",
        "print(\"SVM Model Performance:\")\n",
        "print(\"Accuracy:\", accuracy_score(y_test, y_pred_svm))\n",
        "print(\"\\nClassification Report:\")\n",
        "print(classification_report(y_test, y_pred_svm))\n"
      ],
      "metadata": {
        "colab": {
          "base_uri": "https://localhost:8080/"
        },
        "id": "941eqSDBvIWp",
        "outputId": "2a24611f-42b2-4366-ff35-ec0316614f7e"
      },
      "execution_count": 29,
      "outputs": [
        {
          "output_type": "stream",
          "name": "stdout",
          "text": [
            "SVM Model Performance:\n",
            "Accuracy: 0.956140350877193\n",
            "\n",
            "Classification Report:\n",
            "              precision    recall  f1-score   support\n",
            "\n",
            "           0       0.93      0.95      0.94        43\n",
            "           1       0.97      0.96      0.96        71\n",
            "\n",
            "    accuracy                           0.96       114\n",
            "   macro avg       0.95      0.96      0.95       114\n",
            "weighted avg       0.96      0.96      0.96       114\n",
            "\n"
          ]
        }
      ]
    },
    {
      "cell_type": "markdown",
      "source": [
        "# **Model Evaluation**"
      ],
      "metadata": {
        "id": "jRiURnNgvbe2"
      }
    },
    {
      "cell_type": "code",
      "source": [
        "from sklearn.metrics import accuracy_score, precision_score, recall_score, f1_score, roc_auc_score, roc_curve\n",
        "\n",
        "# Initialize and train the Logistic Regression model\n",
        "log_reg = LogisticRegression(max_iter=1000)\n",
        "log_reg.fit(X_train, y_train)\n",
        "\n",
        "# Make predictions\n",
        "y_pred_log_reg = log_reg.predict(X_test)\n",
        "\n",
        "# Evaluate the Logistic Regression model\n",
        "print(\"Logistic Regression Model Performance:\")\n",
        "print(\"Accuracy:\", accuracy_score(y_test, y_pred_log_reg))\n",
        "print(\"Precision (macro):\", precision_score(y_test, y_pred_log_reg, average='macro'))\n",
        "print(\"Recall (macro):\", recall_score(y_test, y_pred_log_reg, average='macro'))\n",
        "print(\"F1 Score (macro):\", f1_score(y_test, y_pred_log_reg, average='macro'))\n",
        "print(\"ROC AUC Score:\", roc_auc_score(y_test, y_pred_log_reg))\n",
        "\n",
        "# Plot ROC curve\n",
        "fpr_log_reg, tpr_log_reg, _ = roc_curve(y_test, log_reg.predict_proba(X_test)[:,1])\n",
        "plt.plot(fpr_log_reg, tpr_log_reg, marker='o', label='Logistic Regression')\n",
        "\n",
        "\n",
        "# Initialize and train the SVM model\n",
        "svm = SVC(kernel='linear', probability=True, random_state=42)  # Set probability=True for ROC AUC\n",
        "svm.fit(X_train, y_train)\n",
        "\n",
        "# Make predictions\n",
        "y_pred_svm = svm.predict(X_test)\n",
        "\n",
        "# Evaluate the SVM model\n",
        "print(\"SVM Model Performance:\")\n",
        "print(\"Accuracy:\", accuracy_score(y_test, y_pred_svm))\n",
        "print(\"Precision (macro):\", precision_score(y_test, y_pred_svm, average='macro'))\n",
        "print(\"Recall (macro):\", recall_score(y_test, y_pred_svm, average='macro'))\n",
        "print(\"F1 Score (macro):\", f1_score(y_test, y_pred_svm, average='macro'))\n",
        "print(\"ROC AUC Score:\", roc_auc_score(y_test, y_pred_svm))\n",
        "\n",
        "# Plot ROC curve\n",
        "fpr_svm, tpr_svm, _ = roc_curve(y_test, svm.decision_function(X_test))\n",
        "plt.plot(fpr_svm, tpr_svm, marker='o', label='SVM')\n",
        "\n",
        "# Finalize the ROC curve plot\n",
        "plt.xlabel('False Positive Rate')\n",
        "plt.ylabel('True Positive Rate')\n",
        "plt.title('ROC Curve')\n",
        "plt.legend()\n",
        "plt.show()\n",
        "\n"
      ],
      "metadata": {
        "colab": {
          "base_uri": "https://localhost:8080/",
          "height": 686
        },
        "id": "y0KMXr1GvOPt",
        "outputId": "177785be-b410-41c6-8a9e-e60f702af19e"
      },
      "execution_count": 38,
      "outputs": [
        {
          "output_type": "stream",
          "name": "stdout",
          "text": [
            "Logistic Regression Model Performance:\n",
            "Accuracy: 0.9736842105263158\n",
            "Precision (macro): 0.9742063492063492\n",
            "Recall (macro): 0.9697019325253848\n",
            "F1 Score (macro): 0.97186343068696\n",
            "ROC AUC Score: 0.969701932525385\n",
            "SVM Model Performance:\n",
            "Accuracy: 0.956140350877193\n",
            "Precision (macro): 0.9516233766233766\n",
            "Recall (macro): 0.9556174254831313\n",
            "F1 Score (macro): 0.9535338713621913\n",
            "ROC AUC Score: 0.9556174254831314\n"
          ]
        },
        {
          "output_type": "display_data",
          "data": {
            "text/plain": [
              "<Figure size 640x480 with 1 Axes>"
            ],
            "image/png": "[encoded data removed]"
          },
          "metadata": {}
        }
      ]
    },
    {
      "cell_type": "markdown",
      "source": [
        "# **Cross Validation**"
      ],
      "metadata": {
        "id": "qSvouF29wo07"
      }
    },
    {
      "cell_type": "code",
      "source": [
        "from sklearn.model_selection import cross_val_score\n",
        "\n",
        "# Function for cross-validation\n",
        "def cross_validate_model(model, X, y):\n",
        "    scores = cross_val_score(model, X, y, cv=5, scoring='accuracy')  # 5-fold cross-validation\n",
        "    print(f\"{model.__class__.__name__} Cross-Validation Scores:\")\n",
        "    print(\"Accuracy Scores:\", scores)\n",
        "    print(\"Mean Accuracy:\", scores.mean())\n",
        "    print(\"Standard Deviation:\", scores.std())\n",
        "\n",
        "# Cross-validate Logistic Regression\n",
        "cross_validate_model(log_reg, X, y)\n",
        "\n",
        "# Cross-validate SVM\n",
        "cross_validate_model(svm, X, y)\n"
      ],
      "metadata": {
        "colab": {
          "base_uri": "https://localhost:8080/"
        },
        "id": "yo1nW3zqwtcV",
        "outputId": "3074224e-baec-4586-cb92-36299ff4198f"
      },
      "execution_count": 31,
      "outputs": [
        {
          "output_type": "stream",
          "name": "stdout",
          "text": [
            "LogisticRegression Cross-Validation Scores:\n",
            "Accuracy Scores: [0.98245614 0.98245614 0.97368421 0.97368421 0.99115044]\n",
            "Mean Accuracy: 0.9806862288464524\n",
            "Standard Deviation: 0.006539441283506109\n",
            "SVC Cross-Validation Scores:\n",
            "Accuracy Scores: [0.95614035 0.98245614 0.96491228 0.96491228 0.98230088]\n",
            "Mean Accuracy: 0.9701443875174661\n",
            "Standard Deviation: 0.010490210803241348\n"
          ]
        }
      ]
    },
    {
      "cell_type": "markdown",
      "source": [
        "# **Hyperparameter Tuning**"
      ],
      "metadata": {
        "id": "iP-CHTa5xMgK"
      }
    },
    {
      "cell_type": "code",
      "source": [
        "from sklearn.model_selection import GridSearchCV\n",
        "# Define parameter grid for SVM\n",
        "param_grid = {\n",
        "    'C': [0.1, 1, 10, 100],  # Regularization parameter\n",
        "    'kernel': ['linear', 'poly', 'rbf', 'sigmoid'],  # Type of kernel\n",
        "    'gamma': ['scale', 'auto']  # Kernel coefficient\n",
        "}\n",
        "\n",
        "# Initialize SVM model\n",
        "svm = SVC(probability=True, random_state=42)\n",
        "\n",
        "# Perform Grid Search\n",
        "grid_search = GridSearchCV(svm, param_grid, cv=5, scoring='accuracy', n_jobs=-1)\n",
        "grid_search.fit(X_scaled, y)\n",
        "\n",
        "# Print best parameters and best score\n",
        "print(\"Best Parameters:\", grid_search.best_params_)\n",
        "print(\"Best Score:\", grid_search.best_score_)\n",
        "\n",
        "\n"
      ],
      "metadata": {
        "colab": {
          "base_uri": "https://localhost:8080/"
        },
        "id": "R0SvDopAxPy3",
        "outputId": "90e553a0-c73c-40f0-8770-ca5734706ab3"
      },
      "execution_count": 40,
      "outputs": [
        {
          "output_type": "stream",
          "name": "stdout",
          "text": [
            "Best Parameters: {'C': 10, 'gamma': 'scale', 'kernel': 'rbf'}\n",
            "Best Score: 0.9771774569166279\n"
          ]
        }
      ]
    }
  ]
}